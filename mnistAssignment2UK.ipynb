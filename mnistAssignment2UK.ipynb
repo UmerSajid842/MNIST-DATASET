{
  "cells": [
    {
      "cell_type": "markdown",
      "metadata": {
        "id": "5zoAd-Fq5R7R"
      },
      "source": [
        "Step 1: Import Libraries"
      ]
    },
    {
      "cell_type": "markdown",
      "metadata": {
        "id": "6JTya3_y5Uk9"
      },
      "source": []
    },
    {
      "cell_type": "code",
      "execution_count": 9,
      "metadata": {
        "id": "B0begBjV3DDM"
      },
      "outputs": [],
      "source": [
        "\n",
        "# Import necessary libraries\n",
        "import numpy as np\n",
        "from sklearn.datasets import fetch_openml\n",
        "from sklearn.model_selection import train_test_split\n",
        "from sklearn.neighbors import KNeighborsClassifier\n",
        "from sklearn.metrics import accuracy_score, confusion_matrix\n",
        "import matplotlib.pyplot as plt\n",
        "import pandas as pd\n"
      ]
    },
    {
      "cell_type": "markdown",
      "metadata": {
        "id": "bYIlHIXs5I4l"
      },
      "source": [
        "Step 2: Load and Prepare MNIST Dataset"
      ]
    },
    {
      "cell_type": "code",
      "execution_count": 10,
      "metadata": {
        "id": "VCHO00QO3INY"
      },
      "outputs": [],
      "source": [
        "# Load MNIST dataset\n",
        "mnist = fetch_openml('mnist_784', version=1)\n",
        "\n",
        "# Extract features and labels\n",
        "X = mnist.data\n",
        "y = mnist.target\n",
        "\n",
        "# Convert labels to integers\n",
        "y = y.astype(int)\n",
        "\n",
        "# Split data into training (80%) and testing (20%) sets\n",
        "X_train, X_test, y_train, y_test = train_test_split(X, y, test_size=0.2, random_state=42)\n"
      ]
    },
    {
      "cell_type": "markdown",
      "metadata": {
        "id": "VVAaIDMz5N9g"
      },
      "source": [
        "Step 3: Define the K-NN Classifier Function"
      ]
    },
    {
      "cell_type": "code",
      "execution_count": 11,
      "metadata": {
        "id": "0zXvYRKa3Vz-"
      },
      "outputs": [],
      "source": [
        "# Function to train and evaluate K-NN with different distance metrics and K values\n",
        "def evaluate_knn(X_train, X_test, y_train, y_test, distance_metrics, k_range):\n",
        "    results = []\n",
        "\n",
        "    for metric in distance_metrics:\n",
        "        for k in k_range:\n",
        "            # Initialize K-NN classifier\n",
        "            knn = KNeighborsClassifier(n_neighbors=k, metric=metric)\n",
        "\n",
        "            # Train the model\n",
        "            knn.fit(X_train, y_train)\n",
        "\n",
        "            # Predict on the test set\n",
        "            y_pred = knn.predict(X_test)\n",
        "\n",
        "            # Calculate accuracy\n",
        "            accuracy = accuracy_score(y_test, y_pred)\n",
        "\n",
        "            # Generate confusion matrix\n",
        "            conf_matrix = confusion_matrix(y_test, y_pred)\n",
        "\n",
        "            # Append results\n",
        "            results.append({'Metric': metric, 'K': k, 'Accuracy': accuracy, 'Confusion_Matrix': conf_matrix})\n",
        "            print(f\"Metric: {metric}, K: {k}, Accuracy: {accuracy}\")\n",
        "\n",
        "    return results\n"
      ]
    },
    {
      "cell_type": "markdown",
      "metadata": {
        "id": "AnzYfYkS5ZIC"
      },
      "source": [
        "\n",
        "MNIST Classification using K-Nearest Neighbors (K-NN)\n",
        "Here is the step-by-step code to classify the MNIST dataset using the K-NN algorithm with different distance metrics and K values.\n",
        "\n",
        "Step 1: Import Libraries\n",
        "python\n",
        "Copy code\n",
        "# Import necessary libraries\n",
        "import numpy as np\n",
        "from sklearn.datasets import fetch_openml\n",
        "from sklearn.model_selection import train_test_split\n",
        "from sklearn.neighbors import KNeighborsClassifier\n",
        "from sklearn.metrics import accuracy_score, confusion_matrix\n",
        "import matplotlib.pyplot as plt\n",
        "import pandas as pd\n",
        "Step 2: Load and Prepare MNIST Dataset\n",
        "python\n",
        "Copy code\n",
        "# Load MNIST dataset\n",
        "mnist = fetch_openml('mnist_784', version=1)\n",
        "\n",
        "# Extract features and labels\n",
        "X = mnist.data\n",
        "y = mnist.target\n",
        "\n",
        "# Convert labels to integers\n",
        "y = y.astype(int)\n",
        "\n",
        "# Split data into training (80%) and testing (20%) sets\n",
        "X_train, X_test, y_train, y_test = train_test_split(X, y, test_size=0.2, random_state=42)\n",
        "Step 3: Define the K-NN Classifier Function\n",
        "python\n",
        "Copy code\n",
        "# Function to train and evaluate K-NN with different distance metrics and K values\n",
        "def evaluate_knn(X_train, X_test, y_train, y_test, distance_metrics, k_range):\n",
        "    results = []\n",
        "\n",
        "    for metric in distance_metrics:\n",
        "        for k in k_range:\n",
        "            # Initialize K-NN classifier\n",
        "            knn = KNeighborsClassifier(n_neighbors=k, metric=metric)\n",
        "\n",
        "            # Train the model\n",
        "            knn.fit(X_train, y_train)\n",
        "\n",
        "            # Predict on the test set\n",
        "            y_pred = knn.predict(X_test)\n",
        "\n",
        "            # Calculate accuracy\n",
        "            accuracy = accuracy_score(y_test, y_pred)\n",
        "\n",
        "            # Generate confusion matrix\n",
        "            conf_matrix = confusion_matrix(y_test, y_pred)\n",
        "\n",
        "            # Append results\n",
        "            results.append({'Metric': metric, 'K': k, 'Accuracy': accuracy, 'Confusion_Matrix': conf_matrix})\n",
        "            print(f\"Metric: {metric}, K: {k}, Accuracy: {accuracy}\")\n",
        "    \n",
        "    return results\n",
        "Step 4: Evaluate K-NN on MNIST"
      ]
    },
    {
      "cell_type": "code",
      "execution_count": 13,
      "metadata": {
        "colab": {
          "base_uri": "https://localhost:8080/"
        },
        "id": "pcxfuz893bSt",
        "outputId": "8380255d-c9a9-407f-da42-eb72a895a4bc"
      },
      "outputs": [
        {
          "output_type": "stream",
          "name": "stdout",
          "text": [
            "Results have been saved to 'knn_euclidean_results.csv'\n"
          ]
        }
      ],
      "source": [
        "import pandas as pd\n",
        "from sklearn.neighbors import KNeighborsClassifier\n",
        "from sklearn.metrics import confusion_matrix, accuracy_score\n",
        "\n",
        "# Define distance metrics and K values\n",
        "distance_metrics = ['euclidean']\n",
        "k_values = range(1, 11)\n",
        "\n",
        "# Prepare a list to store results for CSV\n",
        "results_list = []\n",
        "\n",
        "# Evaluate KNN for Euclidean distance\n",
        "for metric in distance_metrics:\n",
        "    for k in k_values:\n",
        "        # Define the KNN model\n",
        "        knn = KNeighborsClassifier(n_neighbors=k, metric=metric)\n",
        "\n",
        "        # Train the model\n",
        "        knn.fit(X_train, y_train)\n",
        "\n",
        "        # Make predictions\n",
        "        y_pred = knn.predict(X_test)\n",
        "\n",
        "        # Compute confusion matrix\n",
        "        cm = confusion_matrix(y_test, y_pred)\n",
        "\n",
        "        # Calculate accuracy\n",
        "        accuracy = accuracy_score(y_test, y_pred)\n",
        "\n",
        "        # Flatten confusion matrix to a single row (if needed)\n",
        "        cm_flat = cm.flatten()\n",
        "\n",
        "        # Add results to the list\n",
        "        results_list.append({\n",
        "            'Metric': metric,\n",
        "            'K': k,\n",
        "            'Accuracy': accuracy,\n",
        "            'Confusion Matrix': cm_flat  # Flattened confusion matrix for CSV\n",
        "        })\n",
        "\n",
        "# Convert results to DataFrame\n",
        "df_results = pd.DataFrame(results_list)\n",
        "\n",
        "# Save DataFrame to CSV\n",
        "df_results.to_csv('knn_euclidean_results.csv', index=False)\n",
        "\n",
        "# Display message when saved\n",
        "print(\"Results have been saved to 'knn_euclidean_results.csv'\")\n",
        "\n"
      ]
    },
    {
      "cell_type": "code",
      "source": [
        "from google.colab import files\n",
        "files.download('knn_euclidean_results.csv')\n"
      ],
      "metadata": {
        "colab": {
          "base_uri": "https://localhost:8080/",
          "height": 17
        },
        "id": "bZZm1PEBe9GA",
        "outputId": "363d43f3-bb5d-4b43-e9f8-aa207198a42d"
      },
      "execution_count": 16,
      "outputs": [
        {
          "output_type": "display_data",
          "data": {
            "text/plain": [
              "<IPython.core.display.Javascript object>"
            ],
            "application/javascript": [
              "\n",
              "    async function download(id, filename, size) {\n",
              "      if (!google.colab.kernel.accessAllowed) {\n",
              "        return;\n",
              "      }\n",
              "      const div = document.createElement('div');\n",
              "      const label = document.createElement('label');\n",
              "      label.textContent = `Downloading \"${filename}\": `;\n",
              "      div.appendChild(label);\n",
              "      const progress = document.createElement('progress');\n",
              "      progress.max = size;\n",
              "      div.appendChild(progress);\n",
              "      document.body.appendChild(div);\n",
              "\n",
              "      const buffers = [];\n",
              "      let downloaded = 0;\n",
              "\n",
              "      const channel = await google.colab.kernel.comms.open(id);\n",
              "      // Send a message to notify the kernel that we're ready.\n",
              "      channel.send({})\n",
              "\n",
              "      for await (const message of channel.messages) {\n",
              "        // Send a message to notify the kernel that we're ready.\n",
              "        channel.send({})\n",
              "        if (message.buffers) {\n",
              "          for (const buffer of message.buffers) {\n",
              "            buffers.push(buffer);\n",
              "            downloaded += buffer.byteLength;\n",
              "            progress.value = downloaded;\n",
              "          }\n",
              "        }\n",
              "      }\n",
              "      const blob = new Blob(buffers, {type: 'application/binary'});\n",
              "      const a = document.createElement('a');\n",
              "      a.href = window.URL.createObjectURL(blob);\n",
              "      a.download = filename;\n",
              "      div.appendChild(a);\n",
              "      a.click();\n",
              "      div.remove();\n",
              "    }\n",
              "  "
            ]
          },
          "metadata": {}
        },
        {
          "output_type": "display_data",
          "data": {
            "text/plain": [
              "<IPython.core.display.Javascript object>"
            ],
            "application/javascript": [
              "download(\"download_d3ca027e-dca5-49f6-ae92-a08128162f7a\", \"knn_euclidean_results.csv\", 5430)"
            ]
          },
          "metadata": {}
        }
      ]
    },
    {
      "cell_type": "code",
      "source": [
        "import pandas as pd\n",
        "from sklearn.neighbors import KNeighborsClassifier\n",
        "from sklearn.metrics import confusion_matrix, accuracy_score\n",
        "\n",
        "# Define distance metrics and K values\n",
        "distance_metrics = ['manhattan']\n",
        "k_values = range(1, 11)\n",
        "\n",
        "# Prepare a list to store results for CSV\n",
        "results_list = []\n",
        "\n",
        "# Evaluate KNN for Manhattan distance\n",
        "for metric in distance_metrics:\n",
        "    for k in k_values:\n",
        "        # Define the KNN model\n",
        "        knn = KNeighborsClassifier(n_neighbors=k, metric=metric)\n",
        "\n",
        "        # Train the model\n",
        "        knn.fit(X_train, y_train)\n",
        "\n",
        "        # Make predictions\n",
        "        y_pred = knn.predict(X_test)\n",
        "\n",
        "        # Compute confusion matrix\n",
        "        cm = confusion_matrix(y_test, y_pred)\n",
        "\n",
        "        # Calculate accuracy\n",
        "        accuracy = accuracy_score(y_test, y_pred)\n",
        "\n",
        "        # Flatten confusion matrix to a single row (if needed)\n",
        "        cm_flat = cm.flatten()\n",
        "\n",
        "        # Add results to the list\n",
        "        results_list.append({\n",
        "            'Metric': metric,\n",
        "            'K': k,\n",
        "            'Accuracy': accuracy,\n",
        "            'Confusion Matrix': cm_flat  # Flattened confusion matrix for CSV\n",
        "        })\n",
        "\n",
        "# Convert results to DataFrame\n",
        "df_results = pd.DataFrame(results_list)\n",
        "\n",
        "# Save DataFrame to CSV\n",
        "df_results.to_csv('knn_manhattan_results.csv', index=False)\n",
        "\n",
        "# Display message when saved\n",
        "print(\"Results have been saved to 'knn_manhattan_results.csv'\")\n"
      ],
      "metadata": {
        "colab": {
          "base_uri": "https://localhost:8080/"
        },
        "id": "JzynIm1kgCZo",
        "outputId": "4a6a0c61-1c6e-4e9b-f6e3-a5aee8c778d5"
      },
      "execution_count": 17,
      "outputs": [
        {
          "output_type": "stream",
          "name": "stdout",
          "text": [
            "Results have been saved to 'knn_manhattan_results.csv'\n"
          ]
        }
      ]
    },
    {
      "cell_type": "code",
      "source": [
        "from google.colab import files\n",
        "files.download('knn_manhattan_results.csv')\n"
      ],
      "metadata": {
        "colab": {
          "base_uri": "https://localhost:8080/",
          "height": 17
        },
        "id": "VY9QXFxvgau_",
        "outputId": "5838e6e6-3e96-4cce-b601-78ef62f9f51a"
      },
      "execution_count": 18,
      "outputs": [
        {
          "output_type": "display_data",
          "data": {
            "text/plain": [
              "<IPython.core.display.Javascript object>"
            ],
            "application/javascript": [
              "\n",
              "    async function download(id, filename, size) {\n",
              "      if (!google.colab.kernel.accessAllowed) {\n",
              "        return;\n",
              "      }\n",
              "      const div = document.createElement('div');\n",
              "      const label = document.createElement('label');\n",
              "      label.textContent = `Downloading \"${filename}\": `;\n",
              "      div.appendChild(label);\n",
              "      const progress = document.createElement('progress');\n",
              "      progress.max = size;\n",
              "      div.appendChild(progress);\n",
              "      document.body.appendChild(div);\n",
              "\n",
              "      const buffers = [];\n",
              "      let downloaded = 0;\n",
              "\n",
              "      const channel = await google.colab.kernel.comms.open(id);\n",
              "      // Send a message to notify the kernel that we're ready.\n",
              "      channel.send({})\n",
              "\n",
              "      for await (const message of channel.messages) {\n",
              "        // Send a message to notify the kernel that we're ready.\n",
              "        channel.send({})\n",
              "        if (message.buffers) {\n",
              "          for (const buffer of message.buffers) {\n",
              "            buffers.push(buffer);\n",
              "            downloaded += buffer.byteLength;\n",
              "            progress.value = downloaded;\n",
              "          }\n",
              "        }\n",
              "      }\n",
              "      const blob = new Blob(buffers, {type: 'application/binary'});\n",
              "      const a = document.createElement('a');\n",
              "      a.href = window.URL.createObjectURL(blob);\n",
              "      a.download = filename;\n",
              "      div.appendChild(a);\n",
              "      a.click();\n",
              "      div.remove();\n",
              "    }\n",
              "  "
            ]
          },
          "metadata": {}
        },
        {
          "output_type": "display_data",
          "data": {
            "text/plain": [
              "<IPython.core.display.Javascript object>"
            ],
            "application/javascript": [
              "download(\"download_7d872829-7904-42a9-9aef-702fc3b9c7e4\", \"knn_manhattan_results.csv\", 5418)"
            ]
          },
          "metadata": {}
        }
      ]
    },
    {
      "cell_type": "code",
      "source": [
        "import pandas as pd\n",
        "from sklearn.neighbors import KNeighborsClassifier\n",
        "from sklearn.metrics import confusion_matrix, accuracy_score\n",
        "\n",
        "# Define distance metrics and K values\n",
        "distance_metrics = ['chebyshev']\n",
        "k_values = range(1, 11)\n",
        "\n",
        "# Prepare a list to store results for CSV\n",
        "results_list = []\n",
        "\n",
        "# Evaluate KNN for Chebyshev distance\n",
        "for metric in distance_metrics:\n",
        "    for k in k_values:\n",
        "        # Define the KNN model\n",
        "        knn = KNeighborsClassifier(n_neighbors=k, metric=metric)\n",
        "\n",
        "        # Train the model\n",
        "        knn.fit(X_train, y_train)\n",
        "\n",
        "        # Make predictions\n",
        "        y_pred = knn.predict(X_test)\n",
        "\n",
        "        # Compute confusion matrix\n",
        "        cm = confusion_matrix(y_test, y_pred)\n",
        "\n",
        "        # Calculate accuracy\n",
        "        accuracy = accuracy_score(y_test, y_pred)\n",
        "\n",
        "        # Flatten confusion matrix to a single row\n",
        "        cm_flat = cm.flatten()\n",
        "\n",
        "        # Add results to the list\n",
        "        results_list.append({\n",
        "            'Metric': metric,\n",
        "            'K': k,\n",
        "            'Accuracy': accuracy,\n",
        "            'Confusion Matrix': cm_flat  # Flattened confusion matrix for CSV\n",
        "        })\n",
        "\n",
        "# Convert results to DataFrame\n",
        "df_results = pd.DataFrame(results_list)\n",
        "\n",
        "# Save DataFrame to CSV\n",
        "df_results.to_csv('knn_chebyshev_results.csv', index=False)\n",
        "\n",
        "# Display message when saved\n",
        "print(\"Results have been saved to 'knn_chebyshev_results.csv'\")\n"
      ],
      "metadata": {
        "colab": {
          "base_uri": "https://localhost:8080/",
          "height": 211
        },
        "id": "0NsPpg58b1yn",
        "outputId": "a9251239-bb6a-4252-cdb4-92b013846fcf"
      },
      "execution_count": 1,
      "outputs": [
        {
          "output_type": "error",
          "ename": "NameError",
          "evalue": "name 'X_train' is not defined",
          "traceback": [
            "\u001b[0;31m---------------------------------------------------------------------------\u001b[0m",
            "\u001b[0;31mNameError\u001b[0m                                 Traceback (most recent call last)",
            "\u001b[0;32m<ipython-input-1-eef0ab3854d2>\u001b[0m in \u001b[0;36m<cell line: 13>\u001b[0;34m()\u001b[0m\n\u001b[1;32m     17\u001b[0m \u001b[0;34m\u001b[0m\u001b[0m\n\u001b[1;32m     18\u001b[0m         \u001b[0;31m# Train the model\u001b[0m\u001b[0;34m\u001b[0m\u001b[0;34m\u001b[0m\u001b[0m\n\u001b[0;32m---> 19\u001b[0;31m         \u001b[0mknn\u001b[0m\u001b[0;34m.\u001b[0m\u001b[0mfit\u001b[0m\u001b[0;34m(\u001b[0m\u001b[0mX_train\u001b[0m\u001b[0;34m,\u001b[0m \u001b[0my_train\u001b[0m\u001b[0;34m)\u001b[0m\u001b[0;34m\u001b[0m\u001b[0;34m\u001b[0m\u001b[0m\n\u001b[0m\u001b[1;32m     20\u001b[0m \u001b[0;34m\u001b[0m\u001b[0m\n\u001b[1;32m     21\u001b[0m         \u001b[0;31m# Make predictions\u001b[0m\u001b[0;34m\u001b[0m\u001b[0;34m\u001b[0m\u001b[0m\n",
            "\u001b[0;31mNameError\u001b[0m: name 'X_train' is not defined"
          ]
        }
      ]
    },
    {
      "cell_type": "code",
      "source": [
        "from google.colab import files\n",
        "files.download('knn_chebyshev_results.csv')"
      ],
      "metadata": {
        "id": "xWNgvaH08iRP"
      },
      "execution_count": null,
      "outputs": []
    },
    {
      "cell_type": "markdown",
      "metadata": {
        "id": "YpwU6z9u5yo1"
      },
      "source": [
        "Step 5: Visualize Results for MNIST"
      ]
    },
    {
      "cell_type": "code",
      "source": [
        "from google.colab import files\n",
        "\n",
        "# Upload the files\n",
        "uploaded = files.upload()"
      ],
      "metadata": {
        "colab": {
          "base_uri": "https://localhost:8080/",
          "height": 139
        },
        "id": "4xvTomwjN9_E",
        "outputId": "96c79d8b-e6ae-47a1-d6c6-982b97fb8058"
      },
      "execution_count": 2,
      "outputs": [
        {
          "output_type": "display_data",
          "data": {
            "text/plain": [
              "<IPython.core.display.HTML object>"
            ],
            "text/html": [
              "\n",
              "     <input type=\"file\" id=\"files-f03cf38e-b46e-4c56-a75a-aac2a2b3e047\" name=\"files[]\" multiple disabled\n",
              "        style=\"border:none\" />\n",
              "     <output id=\"result-f03cf38e-b46e-4c56-a75a-aac2a2b3e047\">\n",
              "      Upload widget is only available when the cell has been executed in the\n",
              "      current browser session. Please rerun this cell to enable.\n",
              "      </output>\n",
              "      <script>// Copyright 2017 Google LLC\n",
              "//\n",
              "// Licensed under the Apache License, Version 2.0 (the \"License\");\n",
              "// you may not use this file except in compliance with the License.\n",
              "// You may obtain a copy of the License at\n",
              "//\n",
              "//      http://www.apache.org/licenses/LICENSE-2.0\n",
              "//\n",
              "// Unless required by applicable law or agreed to in writing, software\n",
              "// distributed under the License is distributed on an \"AS IS\" BASIS,\n",
              "// WITHOUT WARRANTIES OR CONDITIONS OF ANY KIND, either express or implied.\n",
              "// See the License for the specific language governing permissions and\n",
              "// limitations under the License.\n",
              "\n",
              "/**\n",
              " * @fileoverview Helpers for google.colab Python module.\n",
              " */\n",
              "(function(scope) {\n",
              "function span(text, styleAttributes = {}) {\n",
              "  const element = document.createElement('span');\n",
              "  element.textContent = text;\n",
              "  for (const key of Object.keys(styleAttributes)) {\n",
              "    element.style[key] = styleAttributes[key];\n",
              "  }\n",
              "  return element;\n",
              "}\n",
              "\n",
              "// Max number of bytes which will be uploaded at a time.\n",
              "const MAX_PAYLOAD_SIZE = 100 * 1024;\n",
              "\n",
              "function _uploadFiles(inputId, outputId) {\n",
              "  const steps = uploadFilesStep(inputId, outputId);\n",
              "  const outputElement = document.getElementById(outputId);\n",
              "  // Cache steps on the outputElement to make it available for the next call\n",
              "  // to uploadFilesContinue from Python.\n",
              "  outputElement.steps = steps;\n",
              "\n",
              "  return _uploadFilesContinue(outputId);\n",
              "}\n",
              "\n",
              "// This is roughly an async generator (not supported in the browser yet),\n",
              "// where there are multiple asynchronous steps and the Python side is going\n",
              "// to poll for completion of each step.\n",
              "// This uses a Promise to block the python side on completion of each step,\n",
              "// then passes the result of the previous step as the input to the next step.\n",
              "function _uploadFilesContinue(outputId) {\n",
              "  const outputElement = document.getElementById(outputId);\n",
              "  const steps = outputElement.steps;\n",
              "\n",
              "  const next = steps.next(outputElement.lastPromiseValue);\n",
              "  return Promise.resolve(next.value.promise).then((value) => {\n",
              "    // Cache the last promise value to make it available to the next\n",
              "    // step of the generator.\n",
              "    outputElement.lastPromiseValue = value;\n",
              "    return next.value.response;\n",
              "  });\n",
              "}\n",
              "\n",
              "/**\n",
              " * Generator function which is called between each async step of the upload\n",
              " * process.\n",
              " * @param {string} inputId Element ID of the input file picker element.\n",
              " * @param {string} outputId Element ID of the output display.\n",
              " * @return {!Iterable<!Object>} Iterable of next steps.\n",
              " */\n",
              "function* uploadFilesStep(inputId, outputId) {\n",
              "  const inputElement = document.getElementById(inputId);\n",
              "  inputElement.disabled = false;\n",
              "\n",
              "  const outputElement = document.getElementById(outputId);\n",
              "  outputElement.innerHTML = '';\n",
              "\n",
              "  const pickedPromise = new Promise((resolve) => {\n",
              "    inputElement.addEventListener('change', (e) => {\n",
              "      resolve(e.target.files);\n",
              "    });\n",
              "  });\n",
              "\n",
              "  const cancel = document.createElement('button');\n",
              "  inputElement.parentElement.appendChild(cancel);\n",
              "  cancel.textContent = 'Cancel upload';\n",
              "  const cancelPromise = new Promise((resolve) => {\n",
              "    cancel.onclick = () => {\n",
              "      resolve(null);\n",
              "    };\n",
              "  });\n",
              "\n",
              "  // Wait for the user to pick the files.\n",
              "  const files = yield {\n",
              "    promise: Promise.race([pickedPromise, cancelPromise]),\n",
              "    response: {\n",
              "      action: 'starting',\n",
              "    }\n",
              "  };\n",
              "\n",
              "  cancel.remove();\n",
              "\n",
              "  // Disable the input element since further picks are not allowed.\n",
              "  inputElement.disabled = true;\n",
              "\n",
              "  if (!files) {\n",
              "    return {\n",
              "      response: {\n",
              "        action: 'complete',\n",
              "      }\n",
              "    };\n",
              "  }\n",
              "\n",
              "  for (const file of files) {\n",
              "    const li = document.createElement('li');\n",
              "    li.append(span(file.name, {fontWeight: 'bold'}));\n",
              "    li.append(span(\n",
              "        `(${file.type || 'n/a'}) - ${file.size} bytes, ` +\n",
              "        `last modified: ${\n",
              "            file.lastModifiedDate ? file.lastModifiedDate.toLocaleDateString() :\n",
              "                                    'n/a'} - `));\n",
              "    const percent = span('0% done');\n",
              "    li.appendChild(percent);\n",
              "\n",
              "    outputElement.appendChild(li);\n",
              "\n",
              "    const fileDataPromise = new Promise((resolve) => {\n",
              "      const reader = new FileReader();\n",
              "      reader.onload = (e) => {\n",
              "        resolve(e.target.result);\n",
              "      };\n",
              "      reader.readAsArrayBuffer(file);\n",
              "    });\n",
              "    // Wait for the data to be ready.\n",
              "    let fileData = yield {\n",
              "      promise: fileDataPromise,\n",
              "      response: {\n",
              "        action: 'continue',\n",
              "      }\n",
              "    };\n",
              "\n",
              "    // Use a chunked sending to avoid message size limits. See b/62115660.\n",
              "    let position = 0;\n",
              "    do {\n",
              "      const length = Math.min(fileData.byteLength - position, MAX_PAYLOAD_SIZE);\n",
              "      const chunk = new Uint8Array(fileData, position, length);\n",
              "      position += length;\n",
              "\n",
              "      const base64 = btoa(String.fromCharCode.apply(null, chunk));\n",
              "      yield {\n",
              "        response: {\n",
              "          action: 'append',\n",
              "          file: file.name,\n",
              "          data: base64,\n",
              "        },\n",
              "      };\n",
              "\n",
              "      let percentDone = fileData.byteLength === 0 ?\n",
              "          100 :\n",
              "          Math.round((position / fileData.byteLength) * 100);\n",
              "      percent.textContent = `${percentDone}% done`;\n",
              "\n",
              "    } while (position < fileData.byteLength);\n",
              "  }\n",
              "\n",
              "  // All done.\n",
              "  yield {\n",
              "    response: {\n",
              "      action: 'complete',\n",
              "    }\n",
              "  };\n",
              "}\n",
              "\n",
              "scope.google = scope.google || {};\n",
              "scope.google.colab = scope.google.colab || {};\n",
              "scope.google.colab._files = {\n",
              "  _uploadFiles,\n",
              "  _uploadFilesContinue,\n",
              "};\n",
              "})(self);\n",
              "</script> "
            ]
          },
          "metadata": {}
        },
        {
          "output_type": "stream",
          "name": "stdout",
          "text": [
            "Saving knn_results.xlsx to knn_results.xlsx\n",
            "Saving knn_chebyshev_results.xlsx to knn_chebyshev_results.xlsx\n",
            "Saving knn_manhattan_results.csv to knn_manhattan_results (1).csv\n"
          ]
        }
      ]
    },
    {
      "cell_type": "code",
      "source": [
        "import pandas as pd\n",
        "import matplotlib.pyplot as plt\n",
        "# Assuming the files were uploaded with the correct names\n",
        "file_paths = [\n",
        "    'knn_manhattan_results.csv',  # Uploaded file name\n",
        "    'knn_euclidean_results.csv',  # Uploaded file name\n",
        "    'knn_chebyshev_results.xlsx'  # Uploaded file name\n",
        "]\n",
        "\n",
        "# List to store dataframes\n",
        "dfs = []\n",
        "\n",
        "# Read the files into dataframes\n",
        "for path in file_paths:\n",
        "    if path.endswith('.csv'):\n",
        "        df = pd.read_csv(path)\n",
        "    elif path.endswith('.xlsx'):\n",
        "        df = pd.read_excel(path)\n",
        "    dfs.append(df)\n",
        "\n",
        "# Combine all dataframes\n",
        "comparison_df = pd.concat(dfs, ignore_index=True)\n",
        "\n",
        "# Save the combined comparison to a new CSV file\n",
        "comparison_df.to_csv('knn_comparison_results.csv', index=False)\n",
        "\n",
        "# Display the comparison results\n",
        "print(\"Comparison results saved to 'knn_comparison_results.csv'\")"
      ],
      "metadata": {
        "colab": {
          "base_uri": "https://localhost:8080/"
        },
        "id": "u_QRPlZxOOQg",
        "outputId": "a02fd7cb-5550-437f-8d1f-cc7cd0454171"
      },
      "execution_count": 3,
      "outputs": [
        {
          "output_type": "stream",
          "name": "stdout",
          "text": [
            "Comparison results saved to 'knn_comparison_results.csv'\n"
          ]
        }
      ]
    },
    {
      "cell_type": "code",
      "source": [
        "from google.colab import files\n",
        "files.download('knn_comparison_results.csv')"
      ],
      "metadata": {
        "colab": {
          "base_uri": "https://localhost:8080/",
          "height": 17
        },
        "id": "ZBROdTcvOYtE",
        "outputId": "ee498deb-ef92-4f74-afba-786d85d135d6"
      },
      "execution_count": 4,
      "outputs": [
        {
          "output_type": "display_data",
          "data": {
            "text/plain": [
              "<IPython.core.display.Javascript object>"
            ],
            "application/javascript": [
              "\n",
              "    async function download(id, filename, size) {\n",
              "      if (!google.colab.kernel.accessAllowed) {\n",
              "        return;\n",
              "      }\n",
              "      const div = document.createElement('div');\n",
              "      const label = document.createElement('label');\n",
              "      label.textContent = `Downloading \"${filename}\": `;\n",
              "      div.appendChild(label);\n",
              "      const progress = document.createElement('progress');\n",
              "      progress.max = size;\n",
              "      div.appendChild(progress);\n",
              "      document.body.appendChild(div);\n",
              "\n",
              "      const buffers = [];\n",
              "      let downloaded = 0;\n",
              "\n",
              "      const channel = await google.colab.kernel.comms.open(id);\n",
              "      // Send a message to notify the kernel that we're ready.\n",
              "      channel.send({})\n",
              "\n",
              "      for await (const message of channel.messages) {\n",
              "        // Send a message to notify the kernel that we're ready.\n",
              "        channel.send({})\n",
              "        if (message.buffers) {\n",
              "          for (const buffer of message.buffers) {\n",
              "            buffers.push(buffer);\n",
              "            downloaded += buffer.byteLength;\n",
              "            progress.value = downloaded;\n",
              "          }\n",
              "        }\n",
              "      }\n",
              "      const blob = new Blob(buffers, {type: 'application/binary'});\n",
              "      const a = document.createElement('a');\n",
              "      a.href = window.URL.createObjectURL(blob);\n",
              "      a.download = filename;\n",
              "      div.appendChild(a);\n",
              "      a.click();\n",
              "      div.remove();\n",
              "    }\n",
              "  "
            ]
          },
          "metadata": {}
        },
        {
          "output_type": "display_data",
          "data": {
            "text/plain": [
              "<IPython.core.display.Javascript object>"
            ],
            "application/javascript": [
              "download(\"download_34ddc37d-9015-4532-9436-4918b3bc078b\", \"knn_comparison_results.csv\", 16105)"
            ]
          },
          "metadata": {}
        }
      ]
    },
    {
      "cell_type": "code",
      "source": [
        "# Assuming the combined dataframe contains columns like 'Metric', 'K', and 'Accuracy'\n",
        "plt.figure(figsize=(10, 6))\n",
        "\n",
        "# Plot accuracy for each metric\n",
        "for metric in comparison_df['Metric'].unique():\n",
        "    subset = comparison_df[comparison_df['Metric'] == metric]\n",
        "    plt.plot(subset['K'], subset['Accuracy'], marker='o', label=metric)\n",
        "\n",
        "plt.title('Accuracy vs. K for Different Distance Metrics (MNIST)')\n",
        "plt.xlabel('K')\n",
        "plt.ylabel('Accuracy')\n",
        "plt.legend()\n",
        "plt.grid()\n",
        "plt.show()\n"
      ],
      "metadata": {
        "colab": {
          "base_uri": "https://localhost:8080/",
          "height": 564
        },
        "id": "QiupnkYDOcz1",
        "outputId": "301763d1-8ad1-4d3f-9b25-6a03f26002d1"
      },
      "execution_count": 5,
      "outputs": [
        {
          "output_type": "display_data",
          "data": {
            "text/plain": [
              "<Figure size 1000x600 with 1 Axes>"
            ],
            "image/png": "[encoded data removed]"
          },
          "metadata": {}
        }
      ]
    },
    {
      "cell_type": "code",
      "source": [
        "import seaborn as sns\n",
        "import matplotlib.pyplot as plt\n",
        "\n",
        "# Assuming `mnist_results` contains your results with confusion matrices\n",
        "mnist_results = [\n",
        "    {'Metric': 'euclidean', 'K': 1, 'Accuracy': 0.97, 'Confusion Matrix': [[950, 5], [8, 937]]},\n",
        "    {'Metric': 'euclidean', 'K': 2, 'Accuracy': 0.96, 'Confusion Matrix': [[940, 10], [9, 938]]},\n",
        "    {'Metric': 'euclidean', 'K': 5, 'Accuracy': 0.95, 'Confusion Matrix': [[920, 20], [12, 938]]},\n",
        "    # Add more results if needed\n",
        "]\n",
        "\n",
        "# Specify the metric and K value you're interested in\n",
        "specific_metric = 'euclidean'\n",
        "specific_k = 5\n",
        "\n",
        "# Filter results to get the confusion matrix for the specific metric and K\n",
        "conf_matrix_result = [result for result in mnist_results if result['Metric'] == specific_metric and result['K'] == specific_k]\n",
        "\n",
        "# Ensure we have the result for the specified metric and K\n",
        "if conf_matrix_result:\n",
        "    conf_matrix = conf_matrix_result[0]['Confusion Matrix']  # Retrieve the confusion matrix\n",
        "\n",
        "    # Plot the confusion matrix\n",
        "    plt.figure(figsize=(10, 8))\n",
        "    sns.heatmap(conf_matrix, annot=True, fmt='d', cmap='Blues', cbar=False)\n",
        "    plt.title(f'Confusion Matrix for {specific_metric} Distance, K={specific_k}')\n",
        "    plt.xlabel('Predicted')\n",
        "    plt.ylabel('Actual')\n",
        "    plt.show()\n",
        "else:\n",
        "    print(f\"No results found for {specific_metric} distance and K={specific_k}.\")\n"
      ],
      "metadata": {
        "colab": {
          "base_uri": "https://localhost:8080/",
          "height": 718
        },
        "id": "cM5l-ODAOgNn",
        "outputId": "90a85d80-6f9f-488f-908b-f56e48ad9f25"
      },
      "execution_count": 6,
      "outputs": [
        {
          "output_type": "display_data",
          "data": {
            "text/plain": [
              "<Figure size 1000x800 with 1 Axes>"
            ],
            "image/png": "[encoded data removed]"
          },
          "metadata": {}
        }
      ]
    }
  ],
  "metadata": {
    "accelerator": "GPU",
    "colab": {
      "gpuType": "T4",
      "provenance": []
    },
    "kernelspec": {
      "display_name": "Python 3",
      "name": "python3"
    },
    "language_info": {
      "name": "python"
    }
  },
  "nbformat": 4,
  "nbformat_minor": 0
}